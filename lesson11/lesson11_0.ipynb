{
 "cells": [
  {
   "cell_type": "code",
   "execution_count": null,
   "metadata": {},
   "outputs": [],
   "source": [
    "import csv\n",
    "from pprint import pprint\n",
    "with open('歷年國內主要觀光遊憩據點遊客人數月別統計.csv', encoding='utf-8',newline='') as file:\n",
    "    dictReader = csv.DictReader(file)\n",
    "    contents:list = list(dictReader)\n",
    "\n",
    "searchs:list = []\n",
    "for item in contents:\n",
    "    if '玉山國家公園' in item['觀光遊憩區']:\n",
    "        searchs.append(item)\n",
    "\n",
    "keys:list[str] = list(searchs[0].keys())\n",
    "keys\n",
    "with open('玉山國家公園.csv',mode='w',encoding='utf-8',newline='') as file:\n",
    "    dictWriter = csv.DictWriter(file,keys)\n",
    "    dictWriter.writeheader()\n",
    "    dictWriter.writerows(searchs)\n",
    "\n",
    "\n",
    "searchs:list = []\n",
    "for item in contents:\n",
    "    if '南投縣' in item['縣市']:\n",
    "        searchs.append(item)\n",
    "\n",
    "keys:list[str] = list(searchs[0].keys())\n",
    "keys\n",
    "with open('南投縣.csv',mode='w',encoding='utf-8',newline='') as file:\n",
    "    dictWriter = csv.DictWriter(file,keys)\n",
    "    dictWriter.writeheader()\n",
    "    dictWriter.writerows(searchs)"
   ]
  },
  {
   "cell_type": "code",
   "execution_count": 1,
   "metadata": {},
   "outputs": [],
   "source": [
    "import csv\n",
    "from pprint import pprint\n",
    "with open('歷年國內主要觀光遊憩據點遊客人數月別統計.csv', encoding='utf-8',newline='') as file:\n",
    "    dictReader = csv.DictReader(file)\n",
    "    contents:list = list(dictReader)\n",
    "\n",
    "searchs = [item for item in contents if '玉山國家公園' in item['觀光遊憩區']] #比上面那一個更簡潔一點\n",
    "keys:list[str] = list(searchs[0].keys())\n",
    "\n",
    "with open('玉山國家公園.csv',mode='w',encoding='utf-8',newline='') as file:\n",
    "    dictWriter = csv.DictWriter(file,keys)\n",
    "    dictWriter.writeheader()\n",
    "    dictWriter.writerows(searchs)"
   ]
  }
 ],
 "metadata": {
  "kernelspec": {
   "display_name": "Python 3",
   "language": "python",
   "name": "python3"
  },
  "language_info": {
   "codemirror_mode": {
    "name": "ipython",
    "version": 3
   },
   "file_extension": ".py",
   "mimetype": "text/x-python",
   "name": "python",
   "nbconvert_exporter": "python",
   "pygments_lexer": "ipython3",
   "version": "3.11.9"
  }
 },
 "nbformat": 4,
 "nbformat_minor": 2
}
