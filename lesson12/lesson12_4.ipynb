{
 "cells": [
  {
   "cell_type": "code",
   "execution_count": 1,
   "metadata": {},
   "outputs": [],
   "source": [
    "import requests\n",
    "from requests import Response\n",
    "youbike_url = 'https://tcgbusfs.blob.core.windows.net/dotapp/youbike/v2/youbike_immediate.json'\n",
    "try:\n",
    "    respons:Response = requests.request('GET',youbike_url)\n",
    "    respons.raise_for_status()\n",
    "except Exception:\n",
    "    print('下載錯誤')\n",
    "else:\n",
    "    content = respons.text"
   ]
  },
  {
   "cell_type": "code",
   "execution_count": null,
   "metadata": {},
   "outputs": [],
   "source": [
    "from pydantic import BaseModel, RootModel, Field, field_validator\n",
    "from datetime import datetime\n",
    "from pprint import pprint\n",
    "\n",
    "#使用自訂的Fields的名稱\n",
    "#轉換型別\n",
    "#自訂驗證\n",
    "class Station(BaseModel): #這邊把需要的資料抓出來\n",
    "    站名:str = Field(alias='sna')\n",
    "    行政區:str = Field(alias='sarea')\n",
    "    日期:datetime = Field(alias='mday')\n",
    "    地址:str = Field(alias='ar')\n",
    "    狀態:bool = Field(alias='act') #改為bool, 1=True, 0=False\n",
    "    車輛總數:int = Field(alias='total')\n",
    "    可借車輛數:int = Field(alias='available_rent_bikes')\n",
    "    可還車輛數:int = Field(alias='available_return_bikes')\n",
    "\n",
    "    @field_validator('站名') #把輸出的站名再傳到這裡驗證\n",
    "    @classmethod\n",
    "    def slice_str(cls,name:str):\n",
    "        return name[11:]\n",
    "\n",
    "class Youbikes(RootModel):\n",
    "    root:list[Station] #定義 root 裡面都是 Station\n",
    "\n",
    "youbikes:Youbikes = Youbikes.model_validate_json(content)\n",
    "youbikes_list = youbikes.model_dump() #dump()->倒出為python的資料結構\n",
    "pprint(youbikes_list)"
   ]
  },
  {
   "cell_type": "code",
   "execution_count": null,
   "metadata": {},
   "outputs": [],
   "source": [
    "site_name = 'YouBike2.0_國北教大實小東側門'\n",
    "#str也是序列\n",
    "for character in site_name:\n",
    "    print(character)\n",
    "\n",
    "#YouBike2.0_國北教大實小 東 側 門\n",
    "#012...                -3 -2 -1"
   ]
  },
  {
   "cell_type": "code",
   "execution_count": 5,
   "metadata": {},
   "outputs": [
    {
     "name": "stdout",
     "output_type": "stream",
     "text": [
      "Y\n",
      "門\n"
     ]
    }
   ],
   "source": [
    "#使用index\n",
    "print(site_name[0])\n",
    "print(site_name[-1])"
   ]
  },
  {
   "cell_type": "code",
   "execution_count": 7,
   "metadata": {},
   "outputs": [
    {
     "name": "stdout",
     "output_type": "stream",
     "text": [
      "YouBike\n",
      "YouBike\n",
      "國北教大實小東側\n",
      "國北教大實小東側門\n"
     ]
    }
   ],
   "source": [
    "#使用slice\n",
    "print(site_name[0:7]) #0到7\n",
    "print(site_name[:7]) #從頭到7\n",
    "print(site_name[-9:-1]) #-9到-1前\n",
    "print(site_name[-9:]) #-9到最後"
   ]
  },
  {
   "cell_type": "code",
   "execution_count": 9,
   "metadata": {},
   "outputs": [
    {
     "name": "stdout",
     "output_type": "stream",
     "text": [
      "國北教大實小東側門\n"
     ]
    }
   ],
   "source": [
    "print(site_name[11:])"
   ]
  },
  {
   "cell_type": "code",
   "execution_count": 10,
   "metadata": {},
   "outputs": [
    {
     "name": "stdout",
     "output_type": "stream",
     "text": [
      "臺大水源舍區C棟\n"
     ]
    }
   ],
   "source": [
    "site_name1 = 'YouBike2.0_臺大水源舍區C棟'\n",
    "print(site_name1[11:])"
   ]
  }
 ],
 "metadata": {
  "kernelspec": {
   "display_name": "Python 3",
   "language": "python",
   "name": "python3"
  },
  "language_info": {
   "codemirror_mode": {
    "name": "ipython",
    "version": 3
   },
   "file_extension": ".py",
   "mimetype": "text/x-python",
   "name": "python",
   "nbconvert_exporter": "python",
   "pygments_lexer": "ipython3",
   "version": "3.11.9"
  }
 },
 "nbformat": 4,
 "nbformat_minor": 2
}
