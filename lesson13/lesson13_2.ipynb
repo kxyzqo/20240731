{
 "cells": [
  {
   "cell_type": "code",
   "execution_count": 1,
   "metadata": {},
   "outputs": [
    {
     "data": {
      "text/plain": [
       "[3, 6, 9, 12, 15]"
      ]
     },
     "execution_count": 1,
     "metadata": {},
     "output_type": "execute_result"
    }
   ],
   "source": [
    "values = [1, 2, 3, 4, 5]\n",
    "multiply = 3\n",
    "\n",
    "new_values = []\n",
    "for i in values:\n",
    "    new_values.append(i*multiply)\n",
    "\n",
    "new_values"
   ]
  },
  {
   "cell_type": "code",
   "execution_count": 2,
   "metadata": {},
   "outputs": [
    {
     "data": {
      "text/plain": [
       "[3, 6, 9, 12, 15]"
      ]
     },
     "execution_count": 2,
     "metadata": {},
     "output_type": "execute_result"
    }
   ],
   "source": [
    "values = [1, 2, 3, 4, 5]\n",
    "multiply = 3\n",
    "\n",
    "new_values = [i*multiply for i in values]\n",
    "new_values"
   ]
  },
  {
   "cell_type": "code",
   "execution_count": 3,
   "metadata": {},
   "outputs": [
    {
     "data": {
      "text/plain": [
       "[1, 2, 3, 4, 5, 1, 2, 3, 4, 5, 1, 2, 3, 4, 5]"
      ]
     },
     "execution_count": 3,
     "metadata": {},
     "output_type": "execute_result"
    }
   ],
   "source": [
    "values = [1, 2, 3, 4, 5]\n",
    "multiply = 3\n",
    "values * multiply"
   ]
  },
  {
   "cell_type": "code",
   "execution_count": 4,
   "metadata": {},
   "outputs": [
    {
     "data": {
      "text/plain": [
       "array([ 3.14159, 12.56636, 28.27431, 50.26544, 78.53975])"
      ]
     },
     "execution_count": 4,
     "metadata": {},
     "output_type": "execute_result"
    }
   ],
   "source": [
    "import numpy as np\n",
    "values_array = np.array([1, 2, 3, 4, 5])\n",
    "multiply = 3\n",
    "values_array * multiply\n",
    "values_array ** 2 * 3.14159"
   ]
  },
  {
   "cell_type": "code",
   "execution_count": 5,
   "metadata": {},
   "outputs": [
    {
     "data": {
      "text/plain": [
       "array([[51, 59, 90, 55, 89],\n",
       "       [85, 62, 87, 78, 71],\n",
       "       [64, 86, 72, 77, 53],\n",
       "       [92, 65, 58, 50, 59],\n",
       "       [89, 50, 83, 79, 66],\n",
       "       [65, 99, 81, 66, 95],\n",
       "       [61, 64, 74, 64, 93],\n",
       "       [65, 64, 56, 90, 95],\n",
       "       [89, 82, 89, 61, 68],\n",
       "       [67, 84, 86, 68, 50],\n",
       "       [54, 95, 99, 69, 91],\n",
       "       [52, 93, 85, 79, 58],\n",
       "       [57, 66, 68, 97, 51],\n",
       "       [50, 60, 98, 54, 52],\n",
       "       [62, 59, 86, 66, 56],\n",
       "       [87, 53, 95, 51, 67],\n",
       "       [61, 52, 88, 55, 81],\n",
       "       [93, 69, 61, 52, 91],\n",
       "       [94, 61, 76, 72, 84],\n",
       "       [61, 89, 84, 70, 90],\n",
       "       [96, 81, 52, 80, 86],\n",
       "       [83, 53, 54, 54, 58],\n",
       "       [73, 55, 66, 79, 97],\n",
       "       [51, 83, 94, 85, 79],\n",
       "       [61, 87, 72, 93, 53],\n",
       "       [69, 65, 54, 87, 73],\n",
       "       [89, 86, 68, 66, 68],\n",
       "       [88, 50, 76, 60, 83],\n",
       "       [61, 92, 54, 97, 66],\n",
       "       [71, 60, 74, 63, 91],\n",
       "       [74, 52, 63, 65, 50],\n",
       "       [72, 72, 92, 74, 78],\n",
       "       [76, 51, 62, 81, 84],\n",
       "       [67, 72, 61, 65, 73],\n",
       "       [77, 98, 50, 66, 84],\n",
       "       [94, 79, 95, 60, 77],\n",
       "       [80, 79, 75, 73, 58],\n",
       "       [80, 81, 81, 71, 50],\n",
       "       [58, 87, 87, 70, 72],\n",
       "       [83, 95, 77, 53, 58],\n",
       "       [73, 50, 56, 77, 60],\n",
       "       [55, 59, 56, 79, 69],\n",
       "       [76, 54, 81, 97, 86],\n",
       "       [90, 82, 51, 73, 57],\n",
       "       [92, 96, 74, 84, 54],\n",
       "       [68, 56, 74, 54, 83],\n",
       "       [96, 91, 73, 99, 72],\n",
       "       [70, 58, 90, 54, 53],\n",
       "       [87, 78, 52, 88, 71],\n",
       "       [86, 83, 68, 75, 55]])"
      ]
     },
     "execution_count": 5,
     "metadata": {},
     "output_type": "execute_result"
    }
   ],
   "source": [
    "import numpy as np\n",
    "np.random.randint(50,100,size=(50,5))"
   ]
  }
 ],
 "metadata": {
  "kernelspec": {
   "display_name": "Python 3",
   "language": "python",
   "name": "python3"
  },
  "language_info": {
   "codemirror_mode": {
    "name": "ipython",
    "version": 3
   },
   "file_extension": ".py",
   "mimetype": "text/x-python",
   "name": "python",
   "nbconvert_exporter": "python",
   "pygments_lexer": "ipython3",
   "version": "3.11.9"
  }
 },
 "nbformat": 4,
 "nbformat_minor": 2
}
