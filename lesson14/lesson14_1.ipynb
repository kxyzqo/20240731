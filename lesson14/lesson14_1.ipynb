{
 "cells": [
  {
   "cell_type": "code",
   "execution_count": null,
   "metadata": {},
   "outputs": [],
   "source": [
    "#擴充套件Numpy-->ndarray\n",
    "#擴充套件pydantic-->json\n",
    "\n",
    "#建立ndarray--(1)list->ndarray (2)np.function->ndarray"
   ]
  },
  {
   "cell_type": "code",
   "execution_count": 1,
   "metadata": {},
   "outputs": [
    {
     "data": {
      "text/plain": [
       "[1, 3, 5, 7, 9, 3, 5, 6, 7, 9]"
      ]
     },
     "execution_count": 1,
     "metadata": {},
     "output_type": "execute_result"
    }
   ],
   "source": [
    "list_a = [1, 3, 5, 7, 9]\n",
    "list_b = [3, 5, 6, 7, 9]\n",
    "list_a + list_b"
   ]
  },
  {
   "cell_type": "code",
   "execution_count": 3,
   "metadata": {},
   "outputs": [
    {
     "data": {
      "text/plain": [
       "array([ 4,  8, 11, 14, 18])"
      ]
     },
     "execution_count": 3,
     "metadata": {},
     "output_type": "execute_result"
    }
   ],
   "source": [
    "#陣列運算\n",
    "import numpy as np\n",
    "array_a = np.array([1, 3, 5, 7, 9])\n",
    "array_b = np.array([3, 5, 6, 7, 9])\n",
    "type(array_a)\n",
    "array_a + array_b"
   ]
  },
  {
   "cell_type": "code",
   "execution_count": 64,
   "metadata": {},
   "outputs": [
    {
     "data": {
      "text/plain": [
       "(2, (2, 3), 6)"
      ]
     },
     "execution_count": 64,
     "metadata": {},
     "output_type": "execute_result"
    }
   ],
   "source": [
    "import numpy as np\n",
    "\n",
    "l = [[1, 2, 3],[2, 3, 4]] #二維的list\n",
    "array = np.array(l)\n",
    "array.ndim, array.shape, array.size, "
   ]
  },
  {
   "cell_type": "code",
   "execution_count": 63,
   "metadata": {},
   "outputs": [
    {
     "data": {
      "text/plain": [
       "array([[-1.13715915,  0.26486485, -0.09634044, -0.15723493, -0.14879274],\n",
       "       [ 1.11684808, -1.07166677,  1.2800203 , -1.63439096,  0.91745638],\n",
       "       [-0.23714341,  1.6864632 ,  1.34247454, -1.20859717, -1.08375971],\n",
       "       [-2.37041555, -1.40213146, -2.19591652, -1.20517988, -0.19675312],\n",
       "       [-0.93597697,  1.1315721 ,  1.48480755,  1.09368697, -0.50886741],\n",
       "       [-0.05064253,  1.36993193,  0.91802816, -0.08163776, -0.51131716],\n",
       "       [ 0.84079871, -0.69321697, -1.70361562, -0.12965296,  0.59179155],\n",
       "       [-0.38911199, -0.70859466,  0.88893724, -0.07070821,  2.61598617],\n",
       "       [-0.16737827,  0.26457451, -0.51667388, -0.20498173, -0.14784392],\n",
       "       [ 0.56266587,  1.12151539, -0.45749123, -0.03329692, -1.6653066 ]])"
      ]
     },
     "execution_count": 63,
     "metadata": {},
     "output_type": "execute_result"
    }
   ],
   "source": [
    "import numpy as np\n",
    "np.random.randn(10,5)"
   ]
  },
  {
   "cell_type": "code",
   "execution_count": 20,
   "metadata": {},
   "outputs": [
    {
     "data": {
      "text/plain": [
       "array([[ 85,  63,  57,  79,  79],\n",
       "       [ 57,  53, 100,  67,  94],\n",
       "       [ 98,  82,  99,  51,  83],\n",
       "       [ 97,  74,  95,  96,  89],\n",
       "       [ 58,  60,  57,  56,  66],\n",
       "       [ 86,  66,  71,  69,  71],\n",
       "       [ 62,  65,  74,  85,  69],\n",
       "       [ 54,  57,  82,  94,  63],\n",
       "       [ 84,  79,  53,  99,  67],\n",
       "       [ 95,  61,  53,  97,  56],\n",
       "       [ 81,  69,  73,  78,  59],\n",
       "       [ 63,  59,  92,  83,  77],\n",
       "       [ 94,  67,  68,  62,  70],\n",
       "       [ 87,  82,  70,  71,  91],\n",
       "       [ 85, 100,  68,  67,  53],\n",
       "       [ 90,  68,  96,  55,  50],\n",
       "       [ 70,  59,  52,  64,  60],\n",
       "       [ 93,  84,  97,  65,  73],\n",
       "       [ 70,  95,  84,  84,  69],\n",
       "       [ 50, 100,  84,  62,  57],\n",
       "       [ 87,  66,  53,  71,  58],\n",
       "       [ 77,  85,  56,  62,  60],\n",
       "       [ 64,  62,  87,  78,  94],\n",
       "       [ 62,  99,  93,  90,  95],\n",
       "       [ 82,  50,  59,  78,  79],\n",
       "       [ 71,  97,  93,  76,  71],\n",
       "       [ 81,  88,  53,  69,  58],\n",
       "       [ 96,  53,  89,  68,  96],\n",
       "       [ 56,  93,  87,  87,  99],\n",
       "       [ 64,  97,  63,  85,  95],\n",
       "       [ 84,  87,  69,  56,  81],\n",
       "       [ 51,  59,  90,  71,  59],\n",
       "       [ 70,  72,  70, 100,  93],\n",
       "       [ 66,  60,  62,  65,  83],\n",
       "       [ 56,  89,  68,  70,  61],\n",
       "       [ 83,  64,  89,  60,  55],\n",
       "       [ 61,  65,  90,  67,  95],\n",
       "       [ 60,  62,  68,  96,  50],\n",
       "       [ 92,  53,  62,  86,  95],\n",
       "       [ 52,  86,  53,  57,  70],\n",
       "       [ 61,  98,  88,  61,  77],\n",
       "       [ 94, 100,  76,  50,  77],\n",
       "       [ 66,  67,  92,  98,  94],\n",
       "       [ 75,  83,  86,  60,  63],\n",
       "       [ 51,  72,  66,  80,  61],\n",
       "       [ 69,  86,  93,  80,  74],\n",
       "       [ 79,  59,  86,  64,  82],\n",
       "       [ 51,  61,  89,  80,  82],\n",
       "       [ 65,  83,  77,  98,  87],\n",
       "       [ 63,  63,  72,  96,  85]])"
      ]
     },
     "execution_count": 20,
     "metadata": {},
     "output_type": "execute_result"
    }
   ],
   "source": [
    "#50個學生,每個學生有5個分數\n",
    "scores = np.random.randint(50,101,size=(50,5)) #min包含 max不包含->M+1\n",
    "scores"
   ]
  },
  {
   "cell_type": "code",
   "execution_count": 66,
   "metadata": {},
   "outputs": [
    {
     "data": {
      "text/plain": [
       "array([[69, 86, 93, 80, 74],\n",
       "       [79, 59, 86, 64, 82],\n",
       "       [51, 61, 89, 80, 82],\n",
       "       [65, 83, 77, 98, 87],\n",
       "       [63, 63, 72, 96, 85]])"
      ]
     },
     "execution_count": 66,
     "metadata": {},
     "output_type": "execute_result"
    }
   ],
   "source": [
    "#第一個學生\n",
    "scores[0,:]\n",
    "#前五個學生\n",
    "scores[:5,:]\n",
    "#最後五個學生\n",
    "scores[-5:,:]"
   ]
  },
  {
   "cell_type": "code",
   "execution_count": 68,
   "metadata": {},
   "outputs": [
    {
     "data": {
      "text/plain": [
       "array([ 63,  53,  82,  74,  60,  66,  65,  57,  79,  61,  69,  59,  67,\n",
       "        82, 100,  68,  59,  84,  95, 100,  66,  85,  62,  99,  50,  97,\n",
       "        88,  53,  93,  97,  87,  59,  72,  60,  89,  64,  65,  62,  53,\n",
       "        86,  98, 100,  67,  83,  72,  86,  59,  61,  83,  63])"
      ]
     },
     "execution_count": 68,
     "metadata": {},
     "output_type": "execute_result"
    }
   ],
   "source": [
    "#全班第一科的分數\n",
    "scores[:,0]\n",
    "#全班第二科的分數\n",
    "scores[:,1]"
   ]
  },
  {
   "cell_type": "code",
   "execution_count": 71,
   "metadata": {},
   "outputs": [
    {
     "data": {
      "text/plain": [
       "array([363, 371, 413, 451, 297, 363, 355, 350, 382, 362, 360, 374, 361,\n",
       "       401, 373, 359, 305, 412, 402, 353, 335, 340, 385, 439, 348, 408,\n",
       "       349, 402, 422, 404, 377, 330, 405, 336, 344, 351, 378, 336, 388,\n",
       "       318, 385, 397, 417, 367, 330, 402, 370, 363, 410, 379])"
      ]
     },
     "execution_count": 71,
     "metadata": {},
     "output_type": "execute_result"
    }
   ],
   "source": [
    "#每位學生的總分\n",
    "total = scores[:,0] + scores[:,1] + scores[:,2] + scores[:,3] + scores[:,4]\n",
    "total"
   ]
  },
  {
   "cell_type": "code",
   "execution_count": 72,
   "metadata": {},
   "outputs": [
    {
     "data": {
      "text/plain": [
       "array([363, 371, 413, 451, 297, 363, 355, 350, 382, 362, 360, 374, 361,\n",
       "       401, 373, 359, 305, 412, 402, 353, 335, 340, 385, 439, 348, 408,\n",
       "       349, 402, 422, 404, 377, 330, 405, 336, 344, 351, 378, 336, 388,\n",
       "       318, 385, 397, 417, 367, 330, 402, 370, 363, 410, 379])"
      ]
     },
     "execution_count": 72,
     "metadata": {},
     "output_type": "execute_result"
    }
   ],
   "source": [
    "#使用統計的方法\n",
    "#每位學生的總分\n",
    "np.sum(scores,axis=1)"
   ]
  },
  {
   "cell_type": "code",
   "execution_count": 73,
   "metadata": {},
   "outputs": [
    {
     "data": {
      "text/plain": [
       "array([72.6, 74.2, 82.6, 90.2, 59.4, 72.6, 71. , 70. , 76.4, 72.4, 72. ,\n",
       "       74.8, 72.2, 80.2, 74.6, 71.8, 61. , 82.4, 80.4, 70.6, 67. , 68. ,\n",
       "       77. , 87.8, 69.6, 81.6, 69.8, 80.4, 84.4, 80.8, 75.4, 66. , 81. ,\n",
       "       67.2, 68.8, 70.2, 75.6, 67.2, 77.6, 63.6, 77. , 79.4, 83.4, 73.4,\n",
       "       66. , 80.4, 74. , 72.6, 82. , 75.8])"
      ]
     },
     "execution_count": 73,
     "metadata": {},
     "output_type": "execute_result"
    }
   ],
   "source": [
    "#每位學生的平均\n",
    "np.mean(scores,axis=1)"
   ]
  }
 ],
 "metadata": {
  "kernelspec": {
   "display_name": "Python 3",
   "language": "python",
   "name": "python3"
  },
  "language_info": {
   "codemirror_mode": {
    "name": "ipython",
    "version": 3
   },
   "file_extension": ".py",
   "mimetype": "text/x-python",
   "name": "python",
   "nbconvert_exporter": "python",
   "pygments_lexer": "ipython3",
   "version": "3.11.9"
  }
 },
 "nbformat": 4,
 "nbformat_minor": 2
}
