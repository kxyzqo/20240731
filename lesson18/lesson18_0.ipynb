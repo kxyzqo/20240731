{
 "cells": [
  {
   "cell_type": "code",
   "execution_count": null,
   "metadata": {},
   "outputs": [],
   "source": [
    "#這邊理路上是應該要有作業的解答和pro和promax版的但是我不會寫並且我沒聽到所以我只能這樣反正就先用一個大概剩的之後再說max版是有新增趴數的部分反正就這樣吧"
   ]
  },
  {
   "cell_type": "code",
   "execution_count": null,
   "metadata": {},
   "outputs": [],
   "source": [
    "#lamda-->匿名的function\n",
    "#好耶這裡可以獲得一個lamda的版本可是我還是沒有所以還是不寫欸黑"
   ]
  }
 ],
 "metadata": {
  "language_info": {
   "name": "python"
  }
 },
 "nbformat": 4,
 "nbformat_minor": 2
}
