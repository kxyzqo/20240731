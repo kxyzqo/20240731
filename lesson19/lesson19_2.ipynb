{
 "cells": [
  {
   "cell_type": "code",
   "execution_count": 1,
   "metadata": {},
   "outputs": [
    {
     "data": {
      "text/plain": [
       "['每日各站進出站人數2022.csv',\n",
       " '每日各站進出站人數2023.csv',\n",
       " '每日各站進出站人數20190423-20191231.csv',\n",
       " '每日各站進出站人數2021.csv',\n",
       " 'manifest.csv',\n",
       " '每日各站進出站人數2020.csv',\n",
       " 'schema.csv']"
      ]
     },
     "execution_count": 1,
     "metadata": {},
     "output_type": "execute_result"
    }
   ],
   "source": [
    "import os\n",
    "current_dir = os.getcwd()\n",
    "csv_dir = os.path.join(current_dir,'每日各站進出站人數')\n",
    "files_and_dirs = os.listdir(csv_dir)\n",
    "files_and_dirs"
   ]
  },
  {
   "cell_type": "code",
   "execution_count": 2,
   "metadata": {},
   "outputs": [
    {
     "name": "stdout",
     "output_type": "stream",
     "text": [
      "每日各站進出站人數2022.csv\n",
      "每日各站進出站人數2023.csv\n",
      "每日各站進出站人數20190423-20191231.csv\n",
      "每日各站進出站人數2021.csv\n",
      "每日各站進出站人數2020.csv\n"
     ]
    }
   ],
   "source": [
    "for filename in files_and_dirs:\n",
    "    if '每日各站進出站人數' in filename:\n",
    "        print(filename)"
   ]
  },
  {
   "cell_type": "code",
   "execution_count": 6,
   "metadata": {},
   "outputs": [],
   "source": [
    "all_csv_files = [filename for filename in files_and_dirs if '每日各站進出站人數' in filename]"
   ]
  },
  {
   "cell_type": "code",
   "execution_count": 7,
   "metadata": {},
   "outputs": [],
   "source": [
    "sorted_csv_files = sorted(all_csv_files)"
   ]
  },
  {
   "cell_type": "code",
   "execution_count": 18,
   "metadata": {},
   "outputs": [
    {
     "name": "stdout",
     "output_type": "stream",
     "text": [
      "/workspaces/20240731/lesson19/每日各站進出站人數/每日各站進出站人數20190423-20191231.csv\n",
      "<class 'pandas.core.frame.DataFrame'>\n",
      "RangeIndex: 243 entries, 0 to 242\n",
      "Data columns (total 2 columns):\n",
      " #   Column       Non-Null Count  Dtype \n",
      "---  ------       --------------  ----- \n",
      " 0   stationCode  243 non-null    int32 \n",
      " 1   stationName  243 non-null    object\n",
      "dtypes: int32(1), object(1)\n",
      "memory usage: 3.0+ KB\n",
      "/workspaces/20240731/lesson19/每日各站進出站人數/每日各站進出站人數2020.csv\n",
      "<class 'pandas.core.frame.DataFrame'>\n",
      "RangeIndex: 243 entries, 0 to 242\n",
      "Data columns (total 2 columns):\n",
      " #   Column       Non-Null Count  Dtype \n",
      "---  ------       --------------  ----- \n",
      " 0   stationCode  243 non-null    int32 \n",
      " 1   stationName  243 non-null    object\n",
      "dtypes: int32(1), object(1)\n",
      "memory usage: 3.0+ KB\n",
      "/workspaces/20240731/lesson19/每日各站進出站人數/每日各站進出站人數2021.csv\n",
      "<class 'pandas.core.frame.DataFrame'>\n",
      "RangeIndex: 243 entries, 0 to 242\n",
      "Data columns (total 2 columns):\n",
      " #   Column       Non-Null Count  Dtype \n",
      "---  ------       --------------  ----- \n",
      " 0   stationCode  243 non-null    int32 \n",
      " 1   stationName  243 non-null    object\n",
      "dtypes: int32(1), object(1)\n",
      "memory usage: 3.0+ KB\n",
      "/workspaces/20240731/lesson19/每日各站進出站人數/每日各站進出站人數2022.csv\n",
      "<class 'pandas.core.frame.DataFrame'>\n",
      "RangeIndex: 243 entries, 0 to 242\n",
      "Data columns (total 2 columns):\n",
      " #   Column       Non-Null Count  Dtype \n",
      "---  ------       --------------  ----- \n",
      " 0   stationCode  243 non-null    int32 \n",
      " 1   stationName  243 non-null    object\n",
      "dtypes: int32(1), object(1)\n",
      "memory usage: 3.0+ KB\n",
      "/workspaces/20240731/lesson19/每日各站進出站人數/每日各站進出站人數2023.csv\n",
      "<class 'pandas.core.frame.DataFrame'>\n",
      "RangeIndex: 243 entries, 0 to 242\n",
      "Data columns (total 2 columns):\n",
      " #   Column       Non-Null Count  Dtype \n",
      "---  ------       --------------  ----- \n",
      " 0   stationCode  243 non-null    int32 \n",
      " 1   stationName  243 non-null    object\n",
      "dtypes: int32(1), object(1)\n",
      "memory usage: 3.0+ KB\n",
      "<class 'pandas.core.frame.DataFrame'>\n",
      "Index: 406761 entries, 0 to 86608\n",
      "Data columns (total 4 columns):\n",
      " #   Column  Non-Null Count   Dtype         \n",
      "---  ------  --------------   -----         \n",
      " 0   乘車日     406761 non-null  datetime64[ns]\n",
      " 1   車站名稱    406761 non-null  object        \n",
      " 2   進站人數    406761 non-null  int64         \n",
      " 3   出站人數    406761 non-null  int64         \n",
      "dtypes: datetime64[ns](1), int64(2), object(1)\n",
      "memory usage: 15.5+ MB\n"
     ]
    }
   ],
   "source": [
    "import pandas as pd\n",
    "import json\n",
    "\n",
    "def parse_data(filename):\n",
    "    print(filename)\n",
    "    df1 = pd.read_csv(filename)\n",
    "    df2 = df1.rename(columns={\"trnOpDate\":\"乘車日\",\n",
    "            \"staCode\":\"車站代碼\",\n",
    "            \"gateInComingCnt\":\"進站人數\",\n",
    "            \"gateOutGoingCnt\":\"出站人數\"})\n",
    "    with open('車站基本資料集.json',encoding='utf-8') as file:\n",
    "        json_data = json.load(file)\n",
    "        stations_info = pd.DataFrame(json_data,columns=['stationCode','stationName'])\n",
    "        stations_info = stations_info.astype({'stationCode':'int32'})\n",
    "        stations_info.info()\n",
    "    df3 = pd.merge(df2,stations_info,left_on='車站代碼',right_on='stationCode')\n",
    "    df4 = df3.rename(columns={'stationName':'車站名稱'})\n",
    "    df5 = df4.reindex(columns=['乘車日','車站名稱','進站人數','出站人數'])\n",
    "    df5['乘車日'] = pd.to_datetime(df5['乘車日'].astype(str))\n",
    "    return df5\n",
    "\n",
    "all_final_dfs = []\n",
    "for filename in sorted_csv_files:\n",
    "    abs_filename = os.path.join(csv_dir, filename)\n",
    "    all_final_dfs.append(parse_data(abs_filename))\n",
    "df_done = pd.concat(all_final_dfs)\n",
    "df_done.info()"
   ]
  }
 ],
 "metadata": {
  "kernelspec": {
   "display_name": "Python 3",
   "language": "python",
   "name": "python3"
  },
  "language_info": {
   "codemirror_mode": {
    "name": "ipython",
    "version": 3
   },
   "file_extension": ".py",
   "mimetype": "text/x-python",
   "name": "python",
   "nbconvert_exporter": "python",
   "pygments_lexer": "ipython3",
   "version": "3.11.9"
  }
 },
 "nbformat": 4,
 "nbformat_minor": 2
}
