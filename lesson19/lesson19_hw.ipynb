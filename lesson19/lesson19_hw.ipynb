{
 "cells": [
  {
   "cell_type": "code",
   "execution_count": 2,
   "metadata": {},
   "outputs": [
    {
     "name": "stdout",
     "output_type": "stream",
     "text": [
      "<class 'pandas.core.frame.DataFrame'>\n",
      "DatetimeIndex: 406761 entries, 2019-04-23 to 2023-12-31\n",
      "Data columns (total 3 columns):\n",
      " #   Column  Non-Null Count   Dtype \n",
      "---  ------  --------------   ----- \n",
      " 0   車站名稱    406761 non-null  object\n",
      " 1   進站人數    406761 non-null  int64 \n",
      " 2   出站人數    406761 non-null  int64 \n",
      "dtypes: int64(2), object(1)\n",
      "memory usage: 12.4+ MB\n",
      "None\n",
      "<class 'pandas.core.frame.DataFrame'>\n",
      "Index: 1714 entries, 0 to 86371\n",
      "Data columns (total 4 columns):\n",
      " #   Column  Non-Null Count  Dtype         \n",
      "---  ------  --------------  -----         \n",
      " 0   乘車日     1714 non-null   datetime64[ns]\n",
      " 1   車站名稱    1714 non-null   object        \n",
      " 2   進站人數    1714 non-null   int64         \n",
      " 3   出站人數    1714 non-null   int64         \n",
      "dtypes: datetime64[ns](1), int64(2), object(1)\n",
      "memory usage: 67.0+ KB\n",
      "None\n",
      "<class 'pandas.core.frame.DataFrame'>\n",
      "Index: 0 entries\n",
      "Data columns (total 4 columns):\n",
      " #   Column  Non-Null Count  Dtype         \n",
      "---  ------  --------------  -----         \n",
      " 0   乘車日     0 non-null      datetime64[ns]\n",
      " 1   車站名稱    0 non-null      object        \n",
      " 2   進站人數    0 non-null      int64         \n",
      " 3   出站人數    0 non-null      int64         \n",
      "dtypes: datetime64[ns](1), int64(2), object(1)\n",
      "memory usage: 0.0+ bytes\n",
      "None\n"
     ]
    }
   ],
   "source": [
    "import os\n",
    "import pandas as pd\n",
    "import json\n",
    "\n",
    "def parse_data(filename):\n",
    "    df1 = pd.read_csv(filename)\n",
    "    df2 = df1.rename(columns={\"trnOpDate\":\"乘車日\",\n",
    "            \"staCode\":\"車站代碼\",\n",
    "            \"gateInComingCnt\":\"進站人數\",\n",
    "            \"gateOutGoingCnt\":\"出站人數\"})\n",
    "    with open('車站基本資料集.json',encoding='utf-8') as file:\n",
    "        json_data = json.load(file)\n",
    "        stations_info = pd.DataFrame(json_data,columns=['stationCode','stationName'])\n",
    "        stations_info = stations_info.astype({'stationCode':'int32'})\n",
    "    df3 = pd.merge(df2,stations_info,left_on='車站代碼',right_on='stationCode')\n",
    "    df4 = df3.rename(columns={'stationName':'車站名稱'})\n",
    "    df5 = df4.reindex(columns=['乘車日','車站名稱','進站人數','出站人數'])\n",
    "    df5['乘車日'] = pd.to_datetime(df5['乘車日'].astype(str))\n",
    "    return df5\n",
    "\n",
    "def main():\n",
    "    current_dir = os.getcwd()\n",
    "    csv_dir = os.path.join(current_dir,'每日各站進出站人數')\n",
    "    files_and_dirs = os.listdir(csv_dir)\n",
    "    all_csv_files = [filename for filename in files_and_dirs if '每日各站進出站人數' in filename]\n",
    "    sorted_csv_files = sorted(all_csv_files)\n",
    "    all_final_dfs = [] \n",
    "    for filename in sorted_csv_files:\n",
    "        abs_filename = os.path.join(csv_dir,filename)\n",
    "        all_final_dfs.append(parse_data(abs_filename))\n",
    "    df_done = pd.concat(all_final_dfs)\n",
    "    df_done1 = df_done.set_index('乘車日')\n",
    "    print(df_done1.info())\n",
    "\n",
    "    keelong = df_done[df_done['車站名稱'].str.contains('基隆')]\n",
    "    print(keelong.info())\n",
    "\n",
    "    taipei_2021 = df_done[(df_done['車站名稱'].str.contains('台北')) & (df_done['乘車日'].dt.year == 2021)]\n",
    "    print(taipei_2021.info())\n",
    "\n",
    "if __name__ == '__main__':\n",
    "    main()"
   ]
  }
 ],
 "metadata": {
  "kernelspec": {
   "display_name": "Python 3",
   "language": "python",
   "name": "python3"
  },
  "language_info": {
   "codemirror_mode": {
    "name": "ipython",
    "version": 3
   },
   "file_extension": ".py",
   "mimetype": "text/x-python",
   "name": "python",
   "nbconvert_exporter": "python",
   "pygments_lexer": "ipython3",
   "version": "3.11.9"
  }
 },
 "nbformat": 4,
 "nbformat_minor": 2
}
