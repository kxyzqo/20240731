{
 "cells": [
  {
   "cell_type": "code",
   "execution_count": 1,
   "metadata": {},
   "outputs": [
    {
     "name": "stdout",
     "output_type": "stream",
     "text": [
      "123您好:\n",
      "您的BMI值是:17.15\n"
     ]
    }
   ],
   "source": [
    "name = input(\"請輸入姓名:\")\n",
    "height_cm = float(input(\"請輸入身高(cm):\"))\n",
    "weight = float(input(\"請輸入體重(kg):\"))\n",
    "height_m = height_cm / 100\n",
    "bmi = round(weight / height_m ** 2, ndigits=2)\n",
    "print(f\"{name}您好:\")\n",
    "print(f\"您的BMI值是:{bmi}\")"
   ]
  },
  {
   "cell_type": "code",
   "execution_count": 12,
   "metadata": {},
   "outputs": [
    {
     "name": "stdout",
     "output_type": "stream",
     "text": [
      "165您好:\n",
      "您的BMI值是:36.73\n",
      "體重:重度肥胖\n"
     ]
    }
   ],
   "source": [
    "name = input(\"請輸入姓名:\")\n",
    "try:\n",
    "    height_cm = float(input(\"請輸入身高(cm):\"))\n",
    "    weight = float(input(\"請輸入體重(kg):\"))\n",
    "except ValueError:\n",
    "    print(\"格式錯誤\")\n",
    "\n",
    "height_m = height_cm / 100\n",
    "bmi = round(weight / height_m ** 2, ndigits=2)\n",
    "\n",
    "if bmi < 18.5:\n",
    "    grade = \"過輕\"\n",
    "elif bmi < 24:\n",
    "    grade = \"正常\"\n",
    "elif bmi < 27:\n",
    "    grade = \"過重\"\n",
    "elif bmi < 30:\n",
    "    grade = \"輕度肥胖\"\n",
    "elif bmi < 35:\n",
    "    grade = \"中度肥胖\"\n",
    "else:\n",
    "    grade = \"重度肥胖\"\n",
    "\n",
    "print(f\"{name}您好:\")\n",
    "print(f\"您的BMI值是:{bmi}\")\n",
    "print(f\"體重:{grade}\")"
   ]
  }
 ],
 "metadata": {
  "kernelspec": {
   "display_name": "Python 3",
   "language": "python",
   "name": "python3"
  },
  "language_info": {
   "codemirror_mode": {
    "name": "ipython",
    "version": 3
   },
   "file_extension": ".py",
   "mimetype": "text/x-python",
   "name": "python",
   "nbconvert_exporter": "python",
   "pygments_lexer": "ipython3",
   "version": "3.11.9"
  }
 },
 "nbformat": 4,
 "nbformat_minor": 2
}
