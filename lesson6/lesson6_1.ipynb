{
 "cells": [
  {
   "cell_type": "code",
   "execution_count": 2,
   "metadata": {},
   "outputs": [
    {
     "name": "stdout",
     "output_type": "stream",
     "text": [
      "您已經存了8個月，共存了31420元\n"
     ]
    }
   ],
   "source": [
    "#小明想要存30000元買機車，他將每月存的錢填入，購買機車時顯示提示訊息告知\n",
    "deposit = 0\n",
    "month = 0\n",
    "while deposit < 30000:\n",
    "    month += 1\n",
    "    money = int(input(f\"請輸入第{month}月份的存款\"))\n",
    "    deposit += money\n",
    "print(f\"您已經存了{month}個月，共存了{deposit}元\")"
   ]
  },
  {
   "cell_type": "code",
   "execution_count": 5,
   "metadata": {},
   "outputs": [
    {
     "name": "stdout",
     "output_type": "stream",
     "text": [
      "Appie\n",
      "Banana\n",
      "Amamamdk\n",
      "Kxyzqo\n",
      "應用程式結束\n"
     ]
    }
   ],
   "source": [
    "#請輸入小寫的英文字串，將英文字第一個字變大寫\n",
    "#請輸入小寫英文字(按q離開)\n",
    "#taiwan輸出Taiwan\n",
    "\n",
    "stuff = input(\"請輸入小寫英文字(按q離開):\")\n",
    "#print(type(stuff))\n",
    "while not stuff == \"q\":\n",
    "    print(stuff.capitalize())\n",
    "    stuff = input(\"請輸入小寫英文字(按q離開):\")\n",
    "print(\"應用程式結束\")"
   ]
  },
  {
   "cell_type": "code",
   "execution_count": 5,
   "metadata": {},
   "outputs": [
    {
     "name": "stdout",
     "output_type": "stream",
     "text": [
      "Sa\n",
      "As\n",
      "As\n",
      "應用程式結束\n"
     ]
    }
   ],
   "source": [
    "#請輸入小寫的英文字串，將英文字第一個字變大寫\n",
    "#請輸入小寫英文字(按q離開)\n",
    "#taiwan輸出Taiwan\n",
    "\n",
    "#print(type(stuff))\n",
    "while True:\n",
    "    stuff = input(\"請輸入小寫英文字(按q離開):\")\n",
    "    if stuff == \"q\":\n",
    "        break\n",
    "    print(stuff.capitalize())\n",
    "print(\"應用程式結束\")"
   ]
  },
  {
   "cell_type": "code",
   "execution_count": 6,
   "metadata": {},
   "outputs": [
    {
     "name": "stdout",
     "output_type": "stream",
     "text": [
      "As\n",
      "Sa\n",
      "Asas\n",
      "應用程式結束\n"
     ]
    }
   ],
   "source": [
    "#請輸入小寫的英文字串，將英文字第一個字變大寫\n",
    "#請輸入小寫英文字(按q離開)\n",
    "#taiwan輸出Taiwan\n",
    "\n",
    "#print(type(stuff))\n",
    "while True:\n",
    "    stuff = input(\"請輸入小寫英文字(按q離開):\")\n",
    "    if stuff == \"q\":\n",
    "        break\n",
    "    else:\n",
    "        print(stuff.capitalize())\n",
    "        continue\n",
    "    print(\"沒用的程式\")\n",
    "print(\"應用程式結束\")"
   ]
  },
  {
   "cell_type": "code",
   "execution_count": 2,
   "metadata": {},
   "outputs": [
    {
     "name": "stdout",
     "output_type": "stream",
     "text": [
      "123的bmi為18.36547291092745,為體重過輕\n",
      "應用程式結束\n"
     ]
    }
   ],
   "source": [
    "try:\n",
    "    name=str(input(\"請輸入姓名\"))\n",
    "    height=float(input('請輸入身高'))\n",
    "    weight=float(input('請輸入體重'))\n",
    "    bmi=weight/(((height*0.01))**2)\n",
    "    if bmi<18.5:\n",
    "        grade=\"體重過輕\"\n",
    "    elif bmi<24:\n",
    "        grade=\"正常範圍\"\n",
    "    elif bmi<27:\n",
    "        grade=\"過重\"\n",
    "    elif bmi<30:\n",
    "        grade=\"輕度肥胖\"\n",
    "    elif bmi<35:\n",
    "        grade=\"中度肥胖\"\n",
    "    elif bmi>=35:\n",
    "        grade=\"重度肥胖\"\n",
    "    print(f\"{name}的bmi為{bmi},為{grade}\")\n",
    "except ValueError:\n",
    "    print(\"格式錯誤\")\n",
    "else:\n",
    "    print(\"應用程式結束\")\n"
   ]
  },
  {
   "cell_type": "code",
   "execution_count": null,
   "metadata": {},
   "outputs": [],
   "source": [
    "while True:\n",
    "    name=str(input('請輸入姓名:'))\n",
    "    try:\n",
    "        height=float(input('請輸入身高(cm):'))\n",
    "        weight=float(input('請輸入體重(kg):'))\n",
    "    except ValueError:\n",
    "        print('格式錯誤')\n",
    "    else:\n",
    "        BMI=round(weight/((height*0.01)**2),ndigits=2)\n",
    "\n",
    "        print(f'{name}您好')\n",
    "        print(f'您的BMI值是:{BMI}')\n",
    "\n",
    "        if BMI>=35:\n",
    "            grade='重度肥胖'\n",
    "        elif BMI>=30:\n",
    "            grade='中度肥胖'\n",
    "        elif BMI>=27:\n",
    "            grade='輕度肥胖'\n",
    "        elif BMI>=24:\n",
    "            grade='過重'\n",
    "        elif BMI>=18:\n",
    "            grade='正常'\n",
    "        else:\n",
    "            grade='過輕'\n",
    "        \n",
    "    print(f'體重:{grade}')\n",
    "    \n",
    "    leave = input(\"是否要繼續計算?['q':離開,enter:繼續]:\")\n",
    "    if leave == 'q':\n",
    "        break\n",
    "print('應用程式結束!')"
   ]
  },
  {
   "cell_type": "code",
   "execution_count": 5,
   "metadata": {},
   "outputs": [
    {
     "name": "stdout",
     "output_type": "stream",
     "text": [
      "123的bmi為18.670934308794386,為正常範圍\n",
      "\n",
      "152的bmi為18.36547291092745,為體重過輕\n",
      "165\n",
      "132的bmi為222.2222222222222,為重度肥胖\n",
      "\n",
      "132的bmi為320.98765432098764,為重度肥胖\n",
      "165\n",
      "165的bmi為200.0,為重度肥胖\n",
      "應用程式結束\n"
     ]
    }
   ],
   "source": [
    "while True:\n",
    "    try:\n",
    "        name=str(input(\"請輸入姓名\"))\n",
    "        height=float(input('請輸入身高'))\n",
    "        weight=float(input('請輸入體重'))\n",
    "        bmi=weight/(((height*0.01))**2)\n",
    "        if bmi<18.5:\n",
    "            grade=\"體重過輕\"\n",
    "        elif bmi<24:\n",
    "            grade=\"正常範圍\"\n",
    "        elif bmi<27:\n",
    "            grade=\"過重\"\n",
    "        elif bmi<30:\n",
    "            grade=\"輕度肥胖\"\n",
    "        elif bmi<35:\n",
    "            grade=\"中度肥胖\"\n",
    "        elif bmi>=35:\n",
    "            grade=\"重度肥胖\"\n",
    "        print(f\"{name}的bmi為{bmi},為{grade}\")\n",
    "    except ValueError:\n",
    "        print(\"格式錯誤\")\n",
    "\n",
    "    stuff = input(\"請問還要繼續('q':離開,enter:繼續)嗎?\")\n",
    "    if stuff == \"q\":\n",
    "        break\n",
    "    else:\n",
    "        print(stuff.capitalize())\n",
    "        continue\n",
    " \n",
    "print(\"應用程式結束\")"
   ]
  }
 ],
 "metadata": {
  "kernelspec": {
   "display_name": "Python 3",
   "language": "python",
   "name": "python3"
  },
  "language_info": {
   "codemirror_mode": {
    "name": "ipython",
    "version": 3
   },
   "file_extension": ".py",
   "mimetype": "text/x-python",
   "name": "python",
   "nbconvert_exporter": "python",
   "pygments_lexer": "ipython3",
   "version": "3.11.9"
  }
 },
 "nbformat": 4,
 "nbformat_minor": 2
}
