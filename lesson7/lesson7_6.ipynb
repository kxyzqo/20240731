{
 "cells": [
  {
   "cell_type": "code",
   "execution_count": 1,
   "metadata": {},
   "outputs": [],
   "source": [
    "#參數如果有default value, 一定要寫在最後面\n",
    "def menu(wine:str, entree:str, dessert:str=\"奶昔\"):\n",
    "    print(f\"酒類:{wine}\")\n",
    "    print(f\"主餐:{entree}\")\n",
    "    print(f\"甜點:{dessert}\")"
   ]
  },
  {
   "cell_type": "code",
   "execution_count": 2,
   "metadata": {},
   "outputs": [
    {
     "name": "stdout",
     "output_type": "stream",
     "text": [
      "酒類:白酒\n",
      "主餐:牛排\n",
      "甜點:奶昔\n"
     ]
    }
   ],
   "source": [
    "#參數有default, 引數可省略\n",
    "menu(\"白酒\",\"牛排\")"
   ]
  },
  {
   "cell_type": "code",
   "execution_count": 3,
   "metadata": {},
   "outputs": [
    {
     "name": "stdout",
     "output_type": "stream",
     "text": [
      "酒類:白酒\n",
      "主餐:牛排\n",
      "甜點:蛋糕\n"
     ]
    }
   ],
   "source": [
    "menu('白酒','牛排',dessert='蛋糕')"
   ]
  },
  {
   "cell_type": "code",
   "execution_count": 4,
   "metadata": {},
   "outputs": [
    {
     "ename": "SyntaxError",
     "evalue": "expected 'except' or 'finally' block (2885937597.py, line 16)",
     "output_type": "error",
     "traceback": [
      "\u001b[0;36m  Cell \u001b[0;32mIn[4], line 16\u001b[0;36m\u001b[0m\n\u001b[0;31m    while True:\u001b[0m\n\u001b[0m               ^\u001b[0m\n\u001b[0;31mSyntaxError\u001b[0m\u001b[0;31m:\u001b[0m expected 'except' or 'finally' block\n"
     ]
    }
   ],
   "source": [
    "def get_status_message(bmi:float)->str:\n",
    "    try:\n",
    "        if bmi<18.5:\n",
    "            grade=\"體重過輕\"\n",
    "        elif bmi<24:\n",
    "            grade=\"正常範圍\"\n",
    "        elif bmi<27:\n",
    "            grade=\"過重\"\n",
    "        elif bmi<30:\n",
    "            grade=\"輕度肥胖\"\n",
    "        elif bmi<35:\n",
    "            grade=\"中度肥胖\"\n",
    "        elif bmi>=35:\n",
    "            grade=\"重度肥胖\"\n",
    "\n",
    "while True:\n",
    "    try:\n",
    "        name=str(input(\"請輸入姓名\"))\n",
    "        height=float(input('請輸入身高'))\n",
    "        weight=float(input('請輸入體重'))\n",
    "        bmi=weight/(((height*0.01))**2)\n",
    "        print(f\"{name} 的 bmi 為 {bmi},為{grade}\")\n",
    "    except ValueError:\n",
    "        print(\"格式錯誤\")\n",
    "        continue\n",
    "\n",
    "    stuff = input(\"請問是否繼續輸入資料 ('q':離開,任意鍵:繼續)?\")\n",
    "\n",
    "    if stuff == 'q':\n",
    "        break\n",
    "    \n",
    "\n",
    "print(\"應用程式結束\")"
   ]
  },
  {
   "cell_type": "code",
   "execution_count": 3,
   "metadata": {},
   "outputs": [
    {
     "name": "stdout",
     "output_type": "stream",
     "text": [
      "123 的 BMI 為 18.37, 為 體重過輕\n",
      "應用程式結束\n"
     ]
    }
   ],
   "source": [
    "def get_status_message(bmi: float) -> str:\n",
    "    if bmi < 18.5:\n",
    "        return \"體重過輕\"\n",
    "    elif bmi < 24:\n",
    "        return \"正常範圍\"\n",
    "    elif bmi < 27:\n",
    "        return \"過重\"\n",
    "    elif bmi < 30:\n",
    "        return \"輕度肥胖\"\n",
    "    elif bmi < 35:\n",
    "        return \"中度肥胖\"\n",
    "    else:\n",
    "        return \"重度肥胖\"\n",
    "\n",
    "while True:\n",
    "    try:\n",
    "        name = input(\"請輸入姓名: \")\n",
    "        height = float(input('請輸入身高（cm）: '))\n",
    "        weight = float(input('請輸入體重（kg）: '))\n",
    "        bmi = weight / ((height * 0.01) ** 2)\n",
    "        grade = get_status_message(bmi)\n",
    "        print(f\"{name} 的 BMI 為 {bmi:.2f}, 為 {grade}\")\n",
    "\n",
    "    except ValueError:\n",
    "        print(\"格式錯誤，請重新輸入數據\")\n",
    "        continue\n",
    "\n",
    "    stuff = input(\"請問是否繼續輸入資料 ('q': 離開, 任意鍵: 繼續)? \")\n",
    "\n",
    "    if stuff == 'q':\n",
    "        break\n",
    "\n",
    "print(\"應用程式結束\")"
   ]
  },
  {
   "cell_type": "code",
   "execution_count": 7,
   "metadata": {},
   "outputs": [
    {
     "name": "stdout",
     "output_type": "stream",
     "text": [
      "132 的 bmi 為 18.36547291092745,為體重過輕\n",
      "162 的 bmi 為 62.47396917950854,為重度肥胖\n",
      "應用程式結束\n"
     ]
    }
   ],
   "source": [
    "def get_status_message(bmi:float)->str:\n",
    "    try:\n",
    "        name=str(input(\"請輸入姓名\"))\n",
    "        height=float(input('請輸入身高'))\n",
    "        weight=float(input('請輸入體重'))\n",
    "        bmi=weight/(((height*0.01))**2)\n",
    "        if bmi<18.5:\n",
    "            grade=\"體重過輕\"\n",
    "        elif bmi<24:\n",
    "            grade=\"正常範圍\"\n",
    "        elif bmi<27:\n",
    "            grade=\"過重\"\n",
    "        elif bmi<30:\n",
    "            grade=\"輕度肥胖\"\n",
    "        elif bmi<35:\n",
    "            grade=\"中度肥胖\"\n",
    "        elif bmi>=35:\n",
    "            grade=\"重度肥胖\"\n",
    "        print(f\"{name} 的 bmi 為 {bmi},為{grade}\")\n",
    "    except ValueError:\n",
    "        print(\"格式錯誤\")\n",
    "\n",
    "while True:\n",
    "    get_status_message(bmi)\n",
    "    stuff = input(\"請問是否繼續輸入資料 ('q': 離開, 任意鍵: 繼續)? \")\n",
    "    if stuff == 'q':\n",
    "        break\n",
    "\n",
    "print(\"應用程式結束\")\n"
   ]
  }
 ],
 "metadata": {
  "kernelspec": {
   "display_name": "Python 3",
   "language": "python",
   "name": "python3"
  },
  "language_info": {
   "codemirror_mode": {
    "name": "ipython",
    "version": 3
   },
   "file_extension": ".py",
   "mimetype": "text/x-python",
   "name": "python",
   "nbconvert_exporter": "python",
   "pygments_lexer": "ipython3",
   "version": "3.11.9"
  }
 },
 "nbformat": 4,
 "nbformat_minor": 2
}
