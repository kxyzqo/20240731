{
 "cells": [
  {
   "cell_type": "code",
   "execution_count": 4,
   "metadata": {},
   "outputs": [
    {
     "data": {
      "text/plain": [
       "__main__.Person"
      ]
     },
     "execution_count": 4,
     "metadata": {},
     "output_type": "execute_result"
    }
   ],
   "source": [
    "class Person():\n",
    "    pass\n",
    "\n",
    "p1 = Person()\n",
    "type(p1)\n",
    "p2 = Person()\n",
    "type(p2)"
   ]
  },
  {
   "cell_type": "code",
   "execution_count": 5,
   "metadata": {},
   "outputs": [
    {
     "name": "stdout",
     "output_type": "stream",
     "text": [
      "引數名稱的呼叫\n",
      "引數值的呼叫\n"
     ]
    }
   ],
   "source": [
    "class Person():\n",
    "    def __init__(self,name:str):\n",
    "        self.name = name #建立一個儲存資料的attribute叫做name\n",
    "\n",
    "p1 = Person(name='引數名稱的呼叫') #自訂的init\n",
    "print(p1.name)\n",
    "p2 = Person('引數值的呼叫') #雖然都叫name但裡面的東西不一樣\n",
    "print(p2.name)"
   ]
  },
  {
   "cell_type": "code",
   "execution_count": 3,
   "metadata": {},
   "outputs": [
    {
     "name": "stdout",
     "output_type": "stream",
     "text": [
      "我的名字叫123\n",
      "國文70分\n",
      "英文95分\n",
      "總分165分\n",
      "平均82.5分\n",
      "我的名字叫465\n",
      "國文75分\n",
      "英文98分\n",
      "總分173分\n",
      "平均86.5分\n"
     ]
    }
   ],
   "source": [
    "class Person():\n",
    "    def __init__(self,name:str,c:int,e:int):\n",
    "        self.name = name\n",
    "        self.chinese = c\n",
    "        self.english = e\n",
    "\n",
    "    def sum(self)->int:\n",
    "        return self.chinese + self.english\n",
    "    \n",
    "    def average(self)->float:\n",
    "        return self.sum() / 2.0\n",
    "\n",
    "    def description(self)->str: #實體方法(只有實體的名稱可以呼叫)\n",
    "        return f'我的名字叫{self.name}\\n國文{self.chinese}分\\n英文{self.english}分'\n",
    "\n",
    "p1 = Person(name='123',e=95,c=70)\n",
    "print(p1.description())\n",
    "print(f'總分{p1.sum()}分')\n",
    "print(f'平均{p1.average()}分')\n",
    "p2 = Person('465',75,98)\n",
    "print(p2.description())\n",
    "print(f'總分{p2.sum()}分')\n",
    "print(f'平均{p2.average()}分')"
   ]
  },
  {
   "cell_type": "code",
   "execution_count": 20,
   "metadata": {},
   "outputs": [
    {
     "name": "stdout",
     "output_type": "stream",
     "text": [
      "我的名字叫4984846\n",
      "BMI為18.37\n",
      "屬於體重過輕\n",
      "應用程式結束\n"
     ]
    }
   ],
   "source": [
    "class BMI():\n",
    "    def __init__(self,name:str,height:float,weight:float):\n",
    "        self.name = name\n",
    "        self.height = height\n",
    "        self.weight = weight\n",
    "\n",
    "    def bmi(self)->float:\n",
    "        return round(self.weight / (self.height/100)**2, ndigits=2)\n",
    "    \n",
    "    def grade(self)->str:\n",
    "        self.grade = self.bmi() #呼叫bmi的值\n",
    "\n",
    "        if self.grade < 18.5:\n",
    "            return \"體重過輕\"\n",
    "        elif self.grade < 24:\n",
    "            return \"正常範圍\"\n",
    "        elif self.grade < 27:\n",
    "            return \"過重\"\n",
    "        elif self.grade < 30:\n",
    "            return \"輕度肥胖\"\n",
    "        elif self.grade < 35:\n",
    "            return \"中度肥胖\"\n",
    "        elif self.grade >= 35:\n",
    "            return \"重度肥胖\"\n",
    "        \n",
    "    def description(self)->str:\n",
    "        return f'我的名字叫{self.name}\\nBMI為{self.bmi()}\\n屬於{self.grade()}'\n",
    "        \n",
    "        \n",
    "while True:\n",
    "    try:\n",
    "        name = input(\"請輸入姓名: \")\n",
    "        height = float(input('請輸入身高（cm）: '))\n",
    "        weight = float(input('請輸入體重（kg）: '))\n",
    "\n",
    "        ans = BMI(name=name,height=height,weight=weight)\n",
    "        print(ans.description())\n",
    "\n",
    "        \n",
    "    except ValueError:\n",
    "        print(\"格式錯誤，請重新輸入數據\")\n",
    "        continue\n",
    "\n",
    "    stuff = input(\"請問是否繼續輸入資料 ('q': 離開, 任意鍵: 繼續)? \")\n",
    "\n",
    "    if stuff == 'q':\n",
    "        break\n",
    "\n",
    "print(\"應用程式結束\")"
   ]
  }
 ],
 "metadata": {
  "kernelspec": {
   "display_name": "Python 3",
   "language": "python",
   "name": "python3"
  },
  "language_info": {
   "codemirror_mode": {
    "name": "ipython",
    "version": 3
   },
   "file_extension": ".py",
   "mimetype": "text/x-python",
   "name": "python",
   "nbconvert_exporter": "python",
   "pygments_lexer": "ipython3",
   "version": "3.11.9"
  }
 },
 "nbformat": 4,
 "nbformat_minor": 2
}
